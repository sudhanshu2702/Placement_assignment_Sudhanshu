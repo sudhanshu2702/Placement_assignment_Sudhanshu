{
 "cells": [
  {
   "cell_type": "markdown",
   "metadata": {},
   "source": [
    "# Python "
   ]
  },
  {
   "cell_type": "code",
   "execution_count": 16,
   "metadata": {
    "ExecuteTime": {
     "end_time": "2023-06-05T07:30:37.622659Z",
     "start_time": "2023-06-05T07:30:35.057904Z"
    }
   },
   "outputs": [],
   "source": [
    "import pandas as pd\n",
    "import numpy as np\n",
    "import matplotlib.pyplot as plt\n",
    "import seaborn as sns"
   ]
  },
  {
   "cell_type": "code",
   "execution_count": 2,
   "metadata": {
    "ExecuteTime": {
     "end_time": "2023-06-05T07:28:38.486796Z",
     "start_time": "2023-06-05T07:28:38.457623Z"
    }
   },
   "outputs": [
    {
     "name": "stdout",
     "output_type": "stream",
     "text": [
      "5 3\n",
      "7 2\n"
     ]
    }
   ],
   "source": [
    "# Answer1:\n",
    "    \n",
    "def max_freq_word_string(string):\n",
    "    list1 = string.split()\n",
    "    freq_word = {}\n",
    "    for word in set(list1):\n",
    "        freq_word[word] = list1.count(word)\n",
    "    max_freq = 0\n",
    "    max_wordfreq_length = 0\n",
    "    for key,count in freq_word.items():\n",
    "        if count>max_freq:\n",
    "            max_freq = count\n",
    "            max_wordfreq_length = len(key)\n",
    "        elif count==max_freq & len(key)>max_wordfreq_length:\n",
    "            max_wordfreq_length = len(key)\n",
    "\n",
    "    return max_freq,max_wordfreq_length\n",
    "\n",
    "test1 = \"Hi Hi Hi how are are you you you you you doing?\"\n",
    "test2 = \"\"\"This is is is is is is a test 2 of the assignment for checking checking the test case if if if it is working fine.\"\"\"\n",
    "max_freq,max_wordfreq_length = max_freq_word_string(test1)\n",
    "print(max_freq,max_wordfreq_length)\n",
    "\n",
    "max_freq,max_wordfreq_length = max_freq_word_string(test2)\n",
    "print(max_freq,max_wordfreq_length)"
   ]
  },
  {
   "cell_type": "code",
   "execution_count": 3,
   "metadata": {
    "ExecuteTime": {
     "end_time": "2023-06-05T07:28:39.678356Z",
     "start_time": "2023-06-05T07:28:39.654572Z"
    }
   },
   "outputs": [],
   "source": [
    "# Answer 2:\n",
    "\n",
    "from collections import Counter\n",
    "\n",
    "def check_string(string):\n",
    "    character_count = Counter(string) # Counting the occurence of each character inside a string\n",
    "    char_freq_counts = Counter(character_count.values()) # counting the frequencies of each character counts\n",
    "    if len(char_freq_counts) == 1:\n",
    "        return \"Yes\"\n",
    "    if len(char_freq_counts) > 1:\n",
    "        return \"No\"\n",
    "    frequency_list = list(char_freq_counts.items())\n",
    "    if (frequency_list[0][1] == 1 and frequency_list[0][0] == 1) or (frequency_list[1][1] == 1 and frequency_list[1][0] == 1):\n",
    "        return \"Yes\"\n",
    "    else:\n",
    "        return \"No\""
   ]
  },
  {
   "cell_type": "code",
   "execution_count": 4,
   "metadata": {
    "ExecuteTime": {
     "end_time": "2023-06-05T07:28:40.955716Z",
     "start_time": "2023-06-05T07:28:40.939829Z"
    }
   },
   "outputs": [
    {
     "name": "stdout",
     "output_type": "stream",
     "text": [
      "aabbcc  -  Yes\n",
      "aabbccc  -  No\n"
     ]
    }
   ],
   "source": [
    "test_string1 = \"aabbcc\"\n",
    "print(test_string1,\" - \",check_string(test_string1))\n",
    "test_string2 = \"aabbccc\"\n",
    "print(test_string2,\" - \",check_string(test_string2))\n"
   ]
  },
  {
   "cell_type": "code",
   "execution_count": 5,
   "metadata": {
    "ExecuteTime": {
     "end_time": "2023-06-05T07:28:51.382469Z",
     "start_time": "2023-06-05T07:28:51.359116Z"
    }
   },
   "outputs": [],
   "source": [
    "# Answer 3:\n",
    "\n",
    "# df_ans3 = pd.read_json(r\"https://raw.githubusercontent.com/Biuni/PokemonGO-Pokedex/master/pokedex.json\")\n",
    "\n",
    "# Authentication is not provided to access this file from github."
   ]
  },
  {
   "cell_type": "code",
   "execution_count": 6,
   "metadata": {
    "ExecuteTime": {
     "end_time": "2023-06-05T07:28:55.929821Z",
     "start_time": "2023-06-05T07:28:51.808696Z"
    }
   },
   "outputs": [],
   "source": [
    "# Answer 4:\n",
    "from datetime import datetime\n",
    "\n",
    "def format_datetime(string):\n",
    "    if isinstance(string, str):\n",
    "        return datetime.strptime(string, \"%Y-%m-%dT%H:%M:%S.%f\")\n",
    "    else:\n",
    "        return string\n",
    "\n",
    "df_ans4 = pd.read_json(\"https://data.nasa.gov/resource/y77d-th95.json\")\n",
    "\n",
    "df_ans4 = pd.concat([df_ans4.drop(['geolocation'],axis=1),df_ans4['geolocation'].apply(pd.Series).iloc[:,1:]],axis=1)\n",
    "\n",
    "df_ans4['year'] = df_ans4['year'].apply(lambda x: format_datetime(x))\n",
    "\n",
    "df_ans4['year'] = pd.to_datetime(df_ans4['year'],errors='coerce')"
   ]
  },
  {
   "cell_type": "code",
   "execution_count": 7,
   "metadata": {
    "ExecuteTime": {
     "end_time": "2023-06-05T07:28:55.961365Z",
     "start_time": "2023-06-05T07:28:55.929821Z"
    }
   },
   "outputs": [
    {
     "data": {
      "text/plain": [
       "name                                   object\n",
       "id                                      int64\n",
       "nametype                               object\n",
       "recclass                               object\n",
       "mass                                  float64\n",
       "fall                                   object\n",
       "year                           datetime64[ns]\n",
       "reclat                                float64\n",
       "reclong                               float64\n",
       ":@computed_region_cbhk_fwbd           float64\n",
       ":@computed_region_nnqa_25f4           float64\n",
       "coordinates                            object\n",
       "type                                   object\n",
       "dtype: object"
      ]
     },
     "execution_count": 7,
     "metadata": {},
     "output_type": "execute_result"
    }
   ],
   "source": [
    "df_ans4.dtypes"
   ]
  },
  {
   "cell_type": "code",
   "execution_count": 8,
   "metadata": {
    "ExecuteTime": {
     "end_time": "2023-06-05T07:28:59.152568Z",
     "start_time": "2023-06-05T07:28:57.546361Z"
    },
    "scrolled": true
   },
   "outputs": [],
   "source": [
    "# Answer 5:\n",
    "import requests\n",
    "def read_url(url):\n",
    "    response = requests.get(url)\n",
    "    if response.status_code==200:\n",
    "        df = response.json()\n",
    "        df_out = pd.DataFrame(df['_embedded']['episodes'])  #trying to retrive the nested episodes from the given link\n",
    "        return df_out\n",
    "    else:\n",
    "        print('Failed to fetch the data from the given url : ',response.status_code)\n",
    "        \n",
    "df_ans5 = read_url(\"http://api.tvmaze.com/singlesearch/shows?q=westworld&embed=episodes\")"
   ]
  },
  {
   "cell_type": "code",
   "execution_count": 9,
   "metadata": {
    "ExecuteTime": {
     "end_time": "2023-06-05T07:28:59.546209Z",
     "start_time": "2023-06-05T07:28:59.152568Z"
    }
   },
   "outputs": [],
   "source": [
    "df_ans5['airdate'] = pd.to_datetime(df_ans5['airdate'],format=\"%Y/%m/%d\")\n",
    "df_ans5['airtime'] = pd.to_datetime(df_ans5['airtime'],format='%H:%M').dt.strftime('%I:%M %p')\n",
    "df_ans5['runtime'] = df_ans5['runtime'].astype(float)\n",
    "df_ans5 = pd.concat([df_ans5.drop(columns=['rating']),df_ans5['rating'].apply(pd.Series).rename(columns={'average':'average_rating'})],axis=1)\n",
    "\n",
    "from bs4 import BeautifulSoup\n",
    "def withoutHTML_tags(string):\n",
    "    text = BeautifulSoup(df_ans5['summary'][0])\n",
    "    return text.get_text()\n",
    "\n",
    "df_ans5['summary'] = df_ans5['summary'].apply(withoutHTML_tags)\n",
    "\n",
    "df_ans5 = pd.concat([df_ans5.drop(columns=['image']),df_ans5['image'].apply(pd.Series).rename(columns={'medium':\"medium_image_link\",'original':\"original_image_link\"})],axis=1)"
   ]
  },
  {
   "cell_type": "code",
   "execution_count": 10,
   "metadata": {
    "ExecuteTime": {
     "end_time": "2023-06-05T07:29:00.853116Z",
     "start_time": "2023-06-05T07:29:00.837354Z"
    }
   },
   "outputs": [
    {
     "data": {
      "text/plain": [
       "id                              int64\n",
       "url                            object\n",
       "name                           object\n",
       "season                          int64\n",
       "number                          int64\n",
       "type                           object\n",
       "airdate                datetime64[ns]\n",
       "airtime                        object\n",
       "airstamp                       object\n",
       "runtime                       float64\n",
       "summary                        object\n",
       "_links                         object\n",
       "average_rating                float64\n",
       "medium_image_link              object\n",
       "original_image_link            object\n",
       "dtype: object"
      ]
     },
     "execution_count": 10,
     "metadata": {},
     "output_type": "execute_result"
    }
   ],
   "source": [
    "df_ans5.dtypes"
   ]
  },
  {
   "cell_type": "code",
   "execution_count": null,
   "metadata": {},
   "outputs": [],
   "source": []
  },
  {
   "cell_type": "code",
   "execution_count": null,
   "metadata": {},
   "outputs": [],
   "source": [
    "# Answer 6: Unable to fetch/access the data from Question 3."
   ]
  },
  {
   "cell_type": "code",
   "execution_count": null,
   "metadata": {},
   "outputs": [],
   "source": []
  },
  {
   "cell_type": "raw",
   "metadata": {
    "ExecuteTime": {
     "end_time": "2023-05-30T09:25:02.706786Z",
     "start_time": "2023-05-30T09:25:02.679723Z"
    }
   },
   "source": [
    "# Answer 7:"
   ]
  },
  {
   "cell_type": "code",
   "execution_count": 12,
   "metadata": {
    "ExecuteTime": {
     "end_time": "2023-06-05T07:29:47.239684Z",
     "start_time": "2023-06-05T07:29:47.202651Z"
    }
   },
   "outputs": [],
   "source": [
    "# 7.a\n",
    "meteorites_before_2000 = df_ans4.loc[(df_ans4['year']<'2000') & (df_ans4['fall']=='Fell')]\n",
    "# 7.b\n",
    "meteorites_co_ordinates_before_1970 = df_ans4.loc[(df_ans4['year']<'1970') & (df_ans4['fall']=='Fell'),['year','name','reclat','reclong','coordinates']]\n",
    "meteorites_co_ordinates_before_1970 = meteorites_co_ordinates_before_1970.dropna().reset_index(drop=True)\n",
    "# 7.c\n",
    "meteorites_massGreater10000 = df_ans4.loc[df_ans4['mass']>10000]"
   ]
  },
  {
   "cell_type": "code",
   "execution_count": 17,
   "metadata": {
    "ExecuteTime": {
     "end_time": "2023-06-05T07:30:44.742349Z",
     "start_time": "2023-06-05T07:30:44.260640Z"
    }
   },
   "outputs": [
    {
     "data": {
      "text/plain": [
       "<matplotlib.collections.PathCollection at 0x19396948e50>"
      ]
     },
     "execution_count": 17,
     "metadata": {},
     "output_type": "execute_result"
    },
    {
     "data": {
      "image/png": "[encoded data removed]",
      "text/plain": [
       "<Figure size 720x720 with 1 Axes>"
      ]
     },
     "metadata": {
      "needs_background": "light"
     },
     "output_type": "display_data"
    }
   ],
   "source": [
    "# 7.a\n",
    "\n",
    "plt.figure(figsize=(10,10))\n",
    "plt.xlabel(\"latitude\",loc='center',fontdict={'fontsize':15,'fontweight':100})\n",
    "plt.ylabel(\"longitude\",loc='center',fontdict={'fontsize':15,'fontweight':100})\n",
    "plt.title(\"Meteorites that fell before the year 2000\",loc='center',pad=10,fontdict={'fontsize':20,'fontweight':900})\n",
    "plt.scatter(meteorites_before_2000['reclat'],meteorites_before_2000['reclong'])"
   ]
  },
  {
   "cell_type": "code",
   "execution_count": 18,
   "metadata": {
    "ExecuteTime": {
     "end_time": "2023-06-05T07:30:46.861609Z",
     "start_time": "2023-06-05T07:30:46.497181Z"
    }
   },
   "outputs": [
    {
     "data": {
      "text/plain": [
       "<matplotlib.collections.PathCollection at 0x19396c09e20>"
      ]
     },
     "execution_count": 18,
     "metadata": {},
     "output_type": "execute_result"
    },
    {
     "data": {
      "image/png": "[encoded data removed]",
      "text/plain": [
       "<Figure size 720x720 with 1 Axes>"
      ]
     },
     "metadata": {
      "needs_background": "light"
     },
     "output_type": "display_data"
    }
   ],
   "source": [
    "# 7.b\n",
    "\n",
    "plt.figure(figsize=(10,10))\n",
    "plt.xlabel(\"latitude\",loc='center',fontdict={'fontsize':15,'fontweight':100})\n",
    "plt.ylabel(\"longitude\",loc='center',fontdict={'fontsize':15,'fontweight':100})\n",
    "plt.title(\"Meteorites co-ordinates who fell before the year 1970\",loc='center',pad=10,fontdict={'fontsize':20,'fontweight':900})\n",
    "plt.scatter(meteorites_co_ordinates_before_1970['reclat'],meteorites_co_ordinates_before_1970['reclong'])"
   ]
  },
  {
   "cell_type": "code",
   "execution_count": 19,
   "metadata": {
    "ExecuteTime": {
     "end_time": "2023-06-05T07:30:48.849764Z",
     "start_time": "2023-06-05T07:30:48.480466Z"
    }
   },
   "outputs": [
    {
     "data": {
      "text/plain": [
       "<matplotlib.collections.PathCollection at 0x19396c73250>"
      ]
     },
     "execution_count": 19,
     "metadata": {},
     "output_type": "execute_result"
    },
    {
     "data": {
      "image/png": "[encoded data removed]",
      "text/plain": [
       "<Figure size 720x720 with 1 Axes>"
      ]
     },
     "metadata": {
      "needs_background": "light"
     },
     "output_type": "display_data"
    }
   ],
   "source": [
    "# 7.c\n",
    "\n",
    "plt.figure(figsize=(10,10))\n",
    "plt.xlabel(\"latitude\",loc='center',fontdict={'fontsize':15,'fontweight':100})\n",
    "plt.ylabel(\"longitude\",loc='center',fontdict={'fontsize':15,'fontweight':100})\n",
    "plt.title(\"Meteorites mass>10000kg\",loc='center',pad=10,fontdict={'fontsize':20,'fontweight':900})\n",
    "plt.scatter(meteorites_massGreater10000['reclat'],meteorites_massGreater10000['reclong'])"
   ]
  },
  {
   "cell_type": "raw",
   "metadata": {
    "ExecuteTime": {
     "end_time": "2023-05-30T10:38:11.814683Z",
     "start_time": "2023-05-30T10:38:11.805815Z"
    }
   },
   "source": [
    "Answer 8"
   ]
  },
  {
   "cell_type": "code",
   "execution_count": 20,
   "metadata": {
    "ExecuteTime": {
     "end_time": "2023-06-05T07:30:53.449953Z",
     "start_time": "2023-06-05T07:30:52.815464Z"
    }
   },
   "outputs": [
    {
     "data": {
      "image/png": "[encoded data removed]",
      "text/plain": [
       "<Figure size 432x288 with 1 Axes>"
      ]
     },
     "metadata": {
      "needs_background": "light"
     },
     "output_type": "display_data"
    }
   ],
   "source": [
    "# Get all the overall ratings for each season and using plots compare the ratings for all the\n",
    "# seasons, like season 1 ratings, season 2, and so on.\n",
    "\n",
    "sns.barplot(x=df_ans5['season'],y=df_ans5['average_rating'])\n",
    "plt.title('Overall ratings for each season')\n",
    "plt.show()"
   ]
  },
  {
   "cell_type": "code",
   "execution_count": 21,
   "metadata": {
    "ExecuteTime": {
     "end_time": "2023-06-05T07:30:55.064142Z",
     "start_time": "2023-06-05T07:30:55.054749Z"
    }
   },
   "outputs": [],
   "source": [
    "# Get all the episode names, whose average rating is more than 8 for every season\n",
    "\n",
    "average_rating_8 = set(df_ans5.loc[df_ans5['average_rating']>8,'name'])"
   ]
  },
  {
   "cell_type": "code",
   "execution_count": 22,
   "metadata": {
    "ExecuteTime": {
     "end_time": "2023-06-05T07:30:55.281870Z",
     "start_time": "2023-06-05T07:30:55.263160Z"
    }
   },
   "outputs": [],
   "source": [
    "# Get all the episode names that aired before May 2019\n",
    "\n",
    "episode_before_may19 = set(df_ans5.loc[df_ans5['airdate']<'2019-05','name'])"
   ]
  },
  {
   "cell_type": "code",
   "execution_count": 23,
   "metadata": {
    "ExecuteTime": {
     "end_time": "2023-06-05T07:31:04.447975Z",
     "start_time": "2023-06-05T07:31:04.228397Z"
    }
   },
   "outputs": [],
   "source": [
    "# Get the episode name from each season with the highest and lowest rating\n",
    "\n",
    "df_esp_hig_low_rating = pd.DataFrame(columns=['Episode_name','Season','Highest_rating','Lowest_rating'])\n",
    "for name_ in set(df_ans5['name']):\n",
    "    dfs = {}\n",
    "    df = df_ans5.loc[df_ans5['name']==name_]\n",
    "    for seas in set(df['season']):\n",
    "        df_1 = df.loc[df['season']==seas]\n",
    "        dfs['Episode_name'] = name_\n",
    "        dfs['Season'] = seas\n",
    "        dfs['Highest_rating'] = pd.Series(df_1['average_rating'].max())\n",
    "        dfs['Lowest_rating'] = pd.Series(df_1['average_rating'].min())\n",
    "    df_esp_hig_low_rating = pd.concat([df_esp_hig_low_rating,pd.DataFrame(dfs)],ignore_index=True).reset_index(drop=True)\n",
    "    \n",
    "df_esp_hig_low_rating = df_esp_hig_low_rating.sort_values(by=['Season']).reset_index(drop=True)"
   ]
  },
  {
   "cell_type": "code",
   "execution_count": 24,
   "metadata": {
    "ExecuteTime": {
     "end_time": "2023-06-05T07:31:05.264892Z",
     "start_time": "2023-06-05T07:31:05.226154Z"
    }
   },
   "outputs": [],
   "source": [
    "# Get the summary for the most popular ( ratings ) episode in every season\n",
    "\n",
    "most_pop_esp = pd.DataFrame()\n",
    "for seas in set(df_ans5['season']):\n",
    "    dfs = {}\n",
    "    df = df_ans5.loc[df_ans5['season']==seas]\n",
    "    df = df.loc[df['average_rating']==df['average_rating'].max()][['name','season','average_rating','summary']]\n",
    "    most_pop_esp = pd.concat([most_pop_esp,df],ignore_index=True).reset_index(drop=True)\n",
    "    \n",
    "most_pop_esp = most_pop_esp.sort_values(by=['season']).reset_index(drop=True)"
   ]
  },
  {
   "cell_type": "code",
   "execution_count": null,
   "metadata": {},
   "outputs": [],
   "source": []
  },
  {
   "cell_type": "raw",
   "metadata": {},
   "source": [
    "Answer 9"
   ]
  },
  {
   "cell_type": "code",
   "execution_count": 25,
   "metadata": {
    "ExecuteTime": {
     "end_time": "2023-06-05T07:31:29.420001Z",
     "start_time": "2023-06-05T07:31:12.365568Z"
    }
   },
   "outputs": [],
   "source": [
    "url2 = \"https://data.wa.gov/api/views/f6w7-q2d2/rows.csv?accessType=DOWNLOAD\"\n",
    "df_ans9 = pd.read_csv(url2)\n",
    "\n",
    "# Get all the cars and their types that do not qualify for clean alternative fuel vehicle\n",
    "\n",
    "not_eligible_vehicle = df_ans9.loc[df_ans9['Clean Alternative Fuel Vehicle (CAFV) Eligibility']=='Not eligible due to low battery range'][['Make','Model','Electric Vehicle Type']].drop_duplicates().reset_index(drop=True)\n",
    "\n",
    "# Get all TESLA cars with the model year, and model type made in Bothell City.\n",
    "\n",
    "df_tesla_bothell = df_ans9.loc[(df_ans9['Make'] == 'TESLA') & (df_ans9['City'] == \"Bothell\")][['City','Model Year','Make','Model']].drop_duplicates().reset_index(drop=True)\n",
    "\n",
    "# Get all the cars that have an electric range of more than 100, and were made after 2015\n",
    "\n",
    "df_veh_100_2015 = df_ans9.loc[(df_ans9['Electric Range']>100) & (df_ans9['Model Year']>2015)].reset_index(drop=True)"
   ]
  },
  {
   "cell_type": "code",
   "execution_count": 27,
   "metadata": {
    "ExecuteTime": {
     "end_time": "2023-06-05T07:32:42.071456Z",
     "start_time": "2023-06-05T07:32:40.585231Z"
    }
   },
   "outputs": [
    {
     "data": {
      "image/png": "[encoded data removed]",
      "text/plain": [
       "<Figure size 720x504 with 1 Axes>"
      ]
     },
     "metadata": {
      "needs_background": "light"
     },
     "output_type": "display_data"
    }
   ],
   "source": [
    "# Draw plots to show the distribution between city and electric vehicle type\n",
    "\n",
    "df_city_vehType = pd.crosstab(df_ans9['City'],df_ans9['Electric Vehicle Type']).sort_values(by=['Battery Electric Vehicle (BEV)','Plug-in Hybrid Electric Vehicle (PHEV)'],ascending=[False,False])\n",
    "top_50_city = df_city_vehType[:50]\n",
    "top_50_city = top_50_city.reset_index()\n",
    "\n",
    "plt.figure(figsize=(10,7))\n",
    "sns.lineplot(data=top_50_city,x='City',y='Battery Electric Vehicle (BEV)')\n",
    "sns.lineplot(data=top_50_city,x='City',y='Plug-in Hybrid Electric Vehicle (PHEV)',legend='auto')\n",
    "plt.legend([\"Battery Electric Vehicle (BEV)\",\"Plug-in Hybrid Electric Vehicle (PHEV)\"])\n",
    "plt.xticks(rotation=90)\n",
    "plt.ylabel('Count of Vehicles',loc='center',fontdict={'fontsize':15,'fontweight':100})\n",
    "plt.xlabel('City',loc='center',fontdict={'fontsize':15,'fontweight':100})\n",
    "plt.title(\"Top 50 Cities distribution w.r.t electric vehicle type\",loc='center',pad=10,fontdict={'fontsize':20,'fontweight':500})\n",
    "plt.show()"
   ]
  },
  {
   "cell_type": "code",
   "execution_count": null,
   "metadata": {},
   "outputs": [],
   "source": []
  },
  {
   "cell_type": "code",
   "execution_count": null,
   "metadata": {},
   "outputs": [],
   "source": []
  },
  {
   "cell_type": "code",
   "execution_count": null,
   "metadata": {},
   "outputs": [],
   "source": []
  },
  {
   "cell_type": "code",
   "execution_count": null,
   "metadata": {},
   "outputs": [],
   "source": []
  },
  {
   "cell_type": "code",
   "execution_count": null,
   "metadata": {},
   "outputs": [],
   "source": []
  },
  {
   "cell_type": "code",
   "execution_count": null,
   "metadata": {},
   "outputs": [],
   "source": []
  },
  {
   "cell_type": "markdown",
   "metadata": {},
   "source": [
    "# Statistics"
   ]
  },
  {
   "cell_type": "code",
   "execution_count": 29,
   "metadata": {
    "ExecuteTime": {
     "end_time": "2023-06-05T07:33:48.050397Z",
     "start_time": "2023-06-05T07:33:48.018600Z"
    }
   },
   "outputs": [
    {
     "name": "stdout",
     "output_type": "stream",
     "text": [
      "SD - BP before =  6.6\n",
      "SD - BP after =  6.89\n",
      "Range before =  28\n",
      "Range after =  23\n",
      "\n",
      "From the above SD we can understand that the 'BP before' column is deviating by 6.59 from the mean value and \n",
      "the 'BP after' column is deviating by 6.88 from the mean value which is slightly higher than the 'blood pressure before' column.\n",
      "This means that there is variation in the reading taken in 'BP after' column.\n",
      "\n",
      "Mean value 'BP before' =  133.91\n",
      "Mean value 'BP after' =  128.36\n"
     ]
    }
   ],
   "source": [
    "# Answer3:\n",
    "\n",
    "df_data = pd.read_csv(\"data.csv\")\n",
    "\n",
    "bp_before_SD = df_data[' Blood Pressure Before (mmHg)'].std()\n",
    "bp_after_SD = df_data[' Blood Pressure After (mmHg)'].std()\n",
    "bp_range_before = df_data[' Blood Pressure Before (mmHg)'].max()-df_data[' Blood Pressure Before (mmHg)'].min()\n",
    "bp_range_after = df_data[' Blood Pressure After (mmHg)'].max()-df_data[' Blood Pressure After (mmHg)'].min()\n",
    "\n",
    "print('SD - BP before = ',round(bp_before_SD,2))\n",
    "print('SD - BP after = ',round(bp_after_SD,2))\n",
    "print('Range before = ',bp_range_before)\n",
    "print('Range after = ',bp_range_after)\n",
    "print(\"\"\"\n",
    "From the above SD we can understand that the 'BP before' column is deviating by 6.59 from the mean value and \n",
    "the 'BP after' column is deviating by 6.88 from the mean value which is slightly higher than the 'blood pressure before' column.\n",
    "This means that there is variation in the reading taken in 'BP after' column.\n",
    "\"\"\")\n",
    "\n",
    "print(\"Mean value 'BP before' = \",df_data[' Blood Pressure Before (mmHg)'].mean())\n",
    "print(\"Mean value 'BP after' = \",df_data[' Blood Pressure After (mmHg)'].mean())"
   ]
  },
  {
   "cell_type": "code",
   "execution_count": 42,
   "metadata": {
    "ExecuteTime": {
     "end_time": "2023-06-05T07:36:22.854178Z",
     "start_time": "2023-06-05T07:36:22.488372Z"
    }
   },
   "outputs": [
    {
     "data": {
      "image/png": "[encoded data removed]",
      "text/plain": [
       "<Figure size 432x288 with 1 Axes>"
      ]
     },
     "metadata": {
      "needs_background": "light"
     },
     "output_type": "display_data"
    }
   ],
   "source": [
    "# Answer 6:\n",
    "\n",
    "import matplotlib.pyplot as plt\n",
    "import seaborn as sns\n",
    "\n",
    "df_6 = pd.read_csv(\"data.csv\")\n",
    "\n",
    "# Blood pressure before\n",
    "\n",
    "plt.hist(df_6[' Blood Pressure Before (mmHg)'],density=True)\n",
    "sns.kdeplot(df_6[' Blood Pressure Before (mmHg)'])\n",
    "plt.show()"
   ]
  },
  {
   "cell_type": "code",
   "execution_count": 41,
   "metadata": {
    "ExecuteTime": {
     "end_time": "2023-06-05T07:35:59.066104Z",
     "start_time": "2023-06-05T07:35:58.736526Z"
    }
   },
   "outputs": [
    {
     "data": {
      "image/png": "[encoded data removed]",
      "text/plain": [
       "<Figure size 432x288 with 1 Axes>"
      ]
     },
     "metadata": {
      "needs_background": "light"
     },
     "output_type": "display_data"
    }
   ],
   "source": [
    "# Blood pressure after\n",
    "\n",
    "plt.hist(df_6[' Blood Pressure After (mmHg)'],density=True)\n",
    "sns.kdeplot(df_6[' Blood Pressure After (mmHg)'])\n",
    "plt.show()"
   ]
  },
  {
   "cell_type": "markdown",
   "metadata": {},
   "source": [
    "from the above two plot we can clearly say that the blood pressure follows a normal distribution."
   ]
  },
  {
   "cell_type": "code",
   "execution_count": null,
   "metadata": {},
   "outputs": [],
   "source": []
  },
  {
   "cell_type": "code",
   "execution_count": 33,
   "metadata": {
    "ExecuteTime": {
     "end_time": "2023-06-05T07:34:12.091013Z",
     "start_time": "2023-06-05T07:34:12.065822Z"
    }
   },
   "outputs": [
    {
     "name": "stdout",
     "output_type": "stream",
     "text": [
      "the therapy had a significant effect on anxiety levels!!\n"
     ]
    }
   ],
   "source": [
    "# Answer 8: \n",
    "import numpy as np\n",
    "from scipy.stats import wilcoxon\n",
    "\n",
    "diff = [-3,-2,-2,-3,-1,-1,-2,-1,-2,-2]\n",
    "alpha = 0.05\n",
    "w,p = wilcoxon(diff)\n",
    "\n",
    "if p < alpha:\n",
    "    print(\"the therapy had a significant effect on anxiety levels!!\")\n",
    "else:\n",
    "    print(\"the therapy did not had a significant effect on anxiety levels!!\")"
   ]
  },
  {
   "cell_type": "code",
   "execution_count": null,
   "metadata": {},
   "outputs": [],
   "source": []
  },
  {
   "cell_type": "code",
   "execution_count": 34,
   "metadata": {
    "ExecuteTime": {
     "end_time": "2023-06-05T07:34:24.254244Z",
     "start_time": "2023-06-05T07:34:24.230605Z"
    }
   },
   "outputs": [
    {
     "name": "stdout",
     "output_type": "stream",
     "text": [
      "Mean scores of the students are not same!\n",
      "The student with the highest score is :  Jeevan\n"
     ]
    }
   ],
   "source": [
    "# Answer 9 :\n",
    "\n",
    "dict_info = {'Name':['Karan','Deepa','Karthik','Chandan','Jeevan'],\n",
    "             'Exam1':[85,70,90,75,95],\n",
    "             'Exam2':[90,80,85,70,92],\n",
    "             'Final Exam':[92,85,88,75,96]}\n",
    "df_9 = pd.DataFrame(dict_info,columns=dict_info.keys())\n",
    "\n",
    "Mean_val_exams = df_9[['Exam1', 'Exam2', 'Final Exam']].mean(axis=0)\n",
    "\n",
    "# Comparing the mean scores of all the exams\n",
    "if Mean_val_exams.nunique() == 1:\n",
    "    print(\"Mean scores of all the students are same!\")\n",
    "else:\n",
    "    print(\"Mean scores of the students are not same!\")\n",
    "    highest_score = Mean_val_exams.idxmax()\n",
    "    Student_name = df_9['Name'][df_9[highest_score].idxmax()]\n",
    "    print(\"The student with the highest score is : \", Student_name)"
   ]
  },
  {
   "cell_type": "code",
   "execution_count": null,
   "metadata": {},
   "outputs": [],
   "source": []
  },
  {
   "cell_type": "code",
   "execution_count": 35,
   "metadata": {
    "ExecuteTime": {
     "end_time": "2023-06-05T07:34:28.058173Z",
     "start_time": "2023-06-05T07:34:28.050870Z"
    }
   },
   "outputs": [],
   "source": [
    "# Answer 10:\n",
    "\n",
    "from scipy.stats import binom\n",
    "import math"
   ]
  },
  {
   "cell_type": "markdown",
   "metadata": {},
   "source": [
    "Formula : P(X=r)= nCr*(p**r)*(q**(n−r))"
   ]
  },
  {
   "cell_type": "code",
   "execution_count": 36,
   "metadata": {
    "ExecuteTime": {
     "end_time": "2023-06-05T07:34:29.266256Z",
     "start_time": "2023-06-05T07:34:29.243041Z"
    }
   },
   "outputs": [],
   "source": [
    "def binomial_prob(n,r,p,type_prob=\"\"):\n",
    "    \"\"\"\n",
    "    n : Number of trials -> int\n",
    "    r : Number of successes -> int\n",
    "    p : Probability of success on a trial -> float\n",
    "    \n",
    "    type_prob : str --> 'exact' or 'atleast' or 'atmost'\n",
    "    \n",
    "    \"\"\"\n",
    "    \n",
    "    if type_prob=='exact':\n",
    "        P = binom.pmf(r,n,p)\n",
    "        return P \n",
    "    elif type_prob=='atleast':\n",
    "        r_value = list(range(0,r))\n",
    "        p_rFORall = [binom.pmf(r,n,p) for r in r_value]\n",
    "        sum_p = 0\n",
    "        for i in p_rFORall:\n",
    "            sum_p+=i\n",
    "        P = 1-sum_p\n",
    "        return P\n",
    "    elif type_prob=='atmost':\n",
    "        r_value = list(range(0,r+1))\n",
    "        p_rFORall = [binom.pmf(r,n,p) for r in r_value]\n",
    "        sum_p = 0\n",
    "        for i in p_rFORall:\n",
    "            sum_p+=i\n",
    "        P = sum_p\n",
    "        return P\n",
    "    else:\n",
    "        print(\"Enter the correct type_prob option to calculate the probability value!!\\n Options :\\n a.exact\\n b.atleast\\n c.atmost \")\n",
    "        "
   ]
  },
  {
   "cell_type": "code",
   "execution_count": 37,
   "metadata": {
    "ExecuteTime": {
     "end_time": "2023-06-05T07:34:29.924509Z",
     "start_time": "2023-06-05T07:34:29.895253Z"
    }
   },
   "outputs": [
    {
     "name": "stdout",
     "output_type": "stream",
     "text": [
      "a. The probability that exactly 20 bulbs are defective is : 0.051616192536642215 or 5.16%\n",
      "b. The probability that at least 10 bulbs are defective is : 0.9998316463654902 or 99.98%\n",
      "c. The probability that at max 15 bulbs are defective is : 0.01985837716299719 or 1.99%\n",
      "d. On an average defective bulbs would be in a batch of 500 is : 25\n"
     ]
    }
   ],
   "source": [
    "ans10_a = binomial_prob(n=500,r=20,p=0.05,type_prob='exact')\n",
    "print(f\"a. The probability that exactly 20 bulbs are defective is : {ans10_a} or {round(ans10_a*100,2)}%\")\n",
    "ans10_b = binomial_prob(n=500,r=10,p=0.05,type_prob='atleast')\n",
    "print(f\"b. The probability that at least 10 bulbs are defective is : {ans10_b} or {round(ans10_b*100,2)}%\")\n",
    "ans10_c = binomial_prob(n=500,r=15,p=0.05,type_prob='atmost')\n",
    "print(f\"c. The probability that at max 15 bulbs are defective is : {ans10_c} or {round(ans10_c*100,2)}%\")\n",
    "ans10_d = round(500*0.05,0)\n",
    "print(f\"d. On an average defective bulbs would be in a batch of 500 is : {int(ans10_d)}\")"
   ]
  },
  {
   "cell_type": "code",
   "execution_count": null,
   "metadata": {},
   "outputs": [],
   "source": []
  },
  {
   "cell_type": "code",
   "execution_count": 38,
   "metadata": {
    "ExecuteTime": {
     "end_time": "2023-06-05T07:34:32.173876Z",
     "start_time": "2023-06-05T07:34:32.163004Z"
    }
   },
   "outputs": [],
   "source": [
    "# Answer 11: \n",
    "\n",
    "df_ans11 = pd.read_csv(\"data.csv\")"
   ]
  },
  {
   "cell_type": "code",
   "execution_count": 45,
   "metadata": {
    "ExecuteTime": {
     "end_time": "2023-06-05T07:37:12.281642Z",
     "start_time": "2023-06-05T07:37:11.916308Z"
    }
   },
   "outputs": [
    {
     "data": {
      "text/plain": [
       "<AxesSubplot:xlabel=' Blood Pressure Before (mmHg)', ylabel='Density'>"
      ]
     },
     "execution_count": 45,
     "metadata": {},
     "output_type": "execute_result"
    },
    {
     "data": {
      "image/png": "[encoded data removed]",
      "text/plain": [
       "<Figure size 432x288 with 1 Axes>"
      ]
     },
     "metadata": {
      "needs_background": "light"
     },
     "output_type": "display_data"
    }
   ],
   "source": [
    "plt.hist(df_ans11[' Blood Pressure Before (mmHg)'],density=True)\n",
    "sns.kdeplot(df_ans11[' Blood Pressure Before (mmHg)'])"
   ]
  },
  {
   "cell_type": "code",
   "execution_count": 47,
   "metadata": {
    "ExecuteTime": {
     "end_time": "2023-06-05T07:38:01.915277Z",
     "start_time": "2023-06-05T07:38:01.584940Z"
    },
    "scrolled": true
   },
   "outputs": [
    {
     "data": {
      "text/plain": [
       "<AxesSubplot:xlabel=' Blood Pressure After (mmHg)', ylabel='Density'>"
      ]
     },
     "execution_count": 47,
     "metadata": {},
     "output_type": "execute_result"
    },
    {
     "data": {
      "image/png": "[encoded data removed]",
      "text/plain": [
       "<Figure size 432x288 with 1 Axes>"
      ]
     },
     "metadata": {
      "needs_background": "light"
     },
     "output_type": "display_data"
    }
   ],
   "source": [
    "plt.hist(df_ans11[' Blood Pressure After (mmHg)'],density=True)\n",
    "sns.kdeplot(df_ans11[' Blood Pressure After (mmHg)'])"
   ]
  },
  {
   "cell_type": "code",
   "execution_count": null,
   "metadata": {},
   "outputs": [],
   "source": []
  },
  {
   "cell_type": "code",
   "execution_count": 48,
   "metadata": {
    "ExecuteTime": {
     "end_time": "2023-06-05T07:51:20.684894Z",
     "start_time": "2023-06-05T07:51:20.669125Z"
    }
   },
   "outputs": [],
   "source": [
    "# Answer 12:"
   ]
  },
  {
   "cell_type": "markdown",
   "metadata": {},
   "source": [
    "<img src=\"https://www.statsdirect.co.uk/help/generatedimages/equations/equation167.svg\" alt=\"Alternative text\" />"
   ]
  },
  {
   "cell_type": "code",
   "execution_count": 76,
   "metadata": {
    "ExecuteTime": {
     "end_time": "2023-06-05T08:15:38.479079Z",
     "start_time": "2023-06-05T08:15:38.469183Z"
    }
   },
   "outputs": [
    {
     "name": "stdout",
     "output_type": "stream",
     "text": [
      "We fail to reject the null hypothesis!\n"
     ]
    }
   ],
   "source": [
    "# a.\n",
    "H0 =\"there is no significant difference between the means\"\n",
    "H1 = \"there is significant difference between the means\"\n",
    "x1_mean = 2.5\n",
    "x2_mean = 2.2\n",
    "sd_A = 0.8\n",
    "sd_B = 0.6\n",
    "n_A = 30\n",
    "n_B = 30\n",
    "alpha = 0.05/2\n",
    "degree_of_freedom = (n_A+n_B-2)\n",
    "t = (x1_mean-x2_mean)/(np.sqrt((sd_A**2)/30+(sd_B**2)/30))\n",
    "\n",
    "# we get the critical_value around 2.001\n",
    "critical_value = 2.001\n",
    "\n",
    "if t<critical_value:\n",
    "    print(\"We fail to reject the null hypothesis!\")\n",
    "else:\n",
    "    print(\"We reject the null hypothesis!\")"
   ]
  },
  {
   "cell_type": "markdown",
   "metadata": {},
   "source": [
    "b. Based on the t-test results, state whether the null hypothesis should be\n",
    "rejected or not. Provide a conclusion in the context of the study.\n",
    "\n",
    "\n",
    "Based on the t test result above we can say that there is no significant\n",
    "difference in the mean improvement scores between the two groups at 0.05 significance level for treating a particular condition. Hence we fail to reject the null hypothesis!"
   ]
  },
  {
   "cell_type": "code",
   "execution_count": null,
   "metadata": {},
   "outputs": [],
   "source": []
  },
  {
   "cell_type": "markdown",
   "metadata": {},
   "source": [
    "# Machine learning"
   ]
  },
  {
   "cell_type": "code",
   "execution_count": 85,
   "metadata": {
    "ExecuteTime": {
     "end_time": "2023-06-05T08:36:03.372917Z",
     "start_time": "2023-06-05T08:36:03.358046Z"
    }
   },
   "outputs": [],
   "source": [
    "# Answer 1:\n",
    "\n",
    "dfML_ans1 = pd.read_csv('instagram_reach.csv')\n",
    "\n",
    "dfML_ans1['Time since posted'] = dfML_ans1['Time since posted'].str.replace(\" hours\",\"_hrs\")\n",
    "\n",
    "dfML_ans1 = pd.concat([dfML_ans1,pd.get_dummies(dfML_ans1['Time since posted'])],axis=1)"
   ]
  },
  {
   "cell_type": "code",
   "execution_count": 101,
   "metadata": {
    "ExecuteTime": {
     "end_time": "2023-06-05T08:46:08.338184Z",
     "start_time": "2023-06-05T08:46:08.314400Z"
    }
   },
   "outputs": [
    {
     "data": {
      "text/plain": [
       "98"
      ]
     },
     "execution_count": 101,
     "metadata": {},
     "output_type": "execute_result"
    }
   ],
   "source": [
    "dfML_ans1['Hashtags'].nunique()"
   ]
  },
  {
   "cell_type": "code",
   "execution_count": 102,
   "metadata": {
    "ExecuteTime": {
     "end_time": "2023-06-05T09:43:26.167101Z",
     "start_time": "2023-06-05T09:43:26.157214Z"
    }
   },
   "outputs": [],
   "source": [
    "dfML_ans1 = dfML_ans1.drop(columns=['Unnamed: 0', 'S.No', 'USERNAME', 'Caption','Hashtags','Time since posted',])"
   ]
  },
  {
   "cell_type": "code",
   "execution_count": 103,
   "metadata": {
    "ExecuteTime": {
     "end_time": "2023-06-05T09:43:32.157281Z",
     "start_time": "2023-06-05T09:43:32.117307Z"
    }
   },
   "outputs": [
    {
     "data": {
      "text/html": [
       "<div>\n",
       "<style scoped>\n",
       "    .dataframe tbody tr th:only-of-type {\n",
       "        vertical-align: middle;\n",
       "    }\n",
       "\n",
       "    .dataframe tbody tr th {\n",
       "        vertical-align: top;\n",
       "    }\n",
       "\n",
       "    .dataframe thead th {\n",
       "        text-align: right;\n",
       "    }\n",
       "</style>\n",
       "<table border=\"1\" class=\"dataframe\">\n",
       "  <thead>\n",
       "    <tr style=\"text-align: right;\">\n",
       "      <th></th>\n",
       "      <th>Followers</th>\n",
       "      <th>Likes</th>\n",
       "      <th>11_hrs</th>\n",
       "      <th>14_hrs</th>\n",
       "      <th>20_hrs</th>\n",
       "      <th>24_hrs</th>\n",
       "      <th>2_hrs</th>\n",
       "      <th>3_hrs</th>\n",
       "      <th>4_hrs</th>\n",
       "      <th>5_hrs</th>\n",
       "      <th>7_hrs</th>\n",
       "      <th>8_hrs</th>\n",
       "      <th>9_hrs</th>\n",
       "    </tr>\n",
       "  </thead>\n",
       "  <tbody>\n",
       "    <tr>\n",
       "      <th>0</th>\n",
       "      <td>1600</td>\n",
       "      <td>139</td>\n",
       "      <td>1</td>\n",
       "      <td>0</td>\n",
       "      <td>0</td>\n",
       "      <td>0</td>\n",
       "      <td>0</td>\n",
       "      <td>0</td>\n",
       "      <td>0</td>\n",
       "      <td>0</td>\n",
       "      <td>0</td>\n",
       "      <td>0</td>\n",
       "      <td>0</td>\n",
       "    </tr>\n",
       "    <tr>\n",
       "      <th>1</th>\n",
       "      <td>880</td>\n",
       "      <td>23</td>\n",
       "      <td>0</td>\n",
       "      <td>0</td>\n",
       "      <td>0</td>\n",
       "      <td>0</td>\n",
       "      <td>1</td>\n",
       "      <td>0</td>\n",
       "      <td>0</td>\n",
       "      <td>0</td>\n",
       "      <td>0</td>\n",
       "      <td>0</td>\n",
       "      <td>0</td>\n",
       "    </tr>\n",
       "    <tr>\n",
       "      <th>2</th>\n",
       "      <td>255</td>\n",
       "      <td>25</td>\n",
       "      <td>0</td>\n",
       "      <td>0</td>\n",
       "      <td>0</td>\n",
       "      <td>0</td>\n",
       "      <td>1</td>\n",
       "      <td>0</td>\n",
       "      <td>0</td>\n",
       "      <td>0</td>\n",
       "      <td>0</td>\n",
       "      <td>0</td>\n",
       "      <td>0</td>\n",
       "    </tr>\n",
       "    <tr>\n",
       "      <th>3</th>\n",
       "      <td>340</td>\n",
       "      <td>49</td>\n",
       "      <td>0</td>\n",
       "      <td>0</td>\n",
       "      <td>0</td>\n",
       "      <td>0</td>\n",
       "      <td>0</td>\n",
       "      <td>1</td>\n",
       "      <td>0</td>\n",
       "      <td>0</td>\n",
       "      <td>0</td>\n",
       "      <td>0</td>\n",
       "      <td>0</td>\n",
       "    </tr>\n",
       "    <tr>\n",
       "      <th>4</th>\n",
       "      <td>304</td>\n",
       "      <td>30</td>\n",
       "      <td>0</td>\n",
       "      <td>0</td>\n",
       "      <td>0</td>\n",
       "      <td>0</td>\n",
       "      <td>0</td>\n",
       "      <td>1</td>\n",
       "      <td>0</td>\n",
       "      <td>0</td>\n",
       "      <td>0</td>\n",
       "      <td>0</td>\n",
       "      <td>0</td>\n",
       "    </tr>\n",
       "    <tr>\n",
       "      <th>...</th>\n",
       "      <td>...</td>\n",
       "      <td>...</td>\n",
       "      <td>...</td>\n",
       "      <td>...</td>\n",
       "      <td>...</td>\n",
       "      <td>...</td>\n",
       "      <td>...</td>\n",
       "      <td>...</td>\n",
       "      <td>...</td>\n",
       "      <td>...</td>\n",
       "      <td>...</td>\n",
       "      <td>...</td>\n",
       "      <td>...</td>\n",
       "    </tr>\n",
       "    <tr>\n",
       "      <th>95</th>\n",
       "      <td>614</td>\n",
       "      <td>31</td>\n",
       "      <td>0</td>\n",
       "      <td>0</td>\n",
       "      <td>0</td>\n",
       "      <td>0</td>\n",
       "      <td>0</td>\n",
       "      <td>1</td>\n",
       "      <td>0</td>\n",
       "      <td>0</td>\n",
       "      <td>0</td>\n",
       "      <td>0</td>\n",
       "      <td>0</td>\n",
       "    </tr>\n",
       "    <tr>\n",
       "      <th>96</th>\n",
       "      <td>450</td>\n",
       "      <td>42</td>\n",
       "      <td>0</td>\n",
       "      <td>0</td>\n",
       "      <td>0</td>\n",
       "      <td>0</td>\n",
       "      <td>0</td>\n",
       "      <td>1</td>\n",
       "      <td>0</td>\n",
       "      <td>0</td>\n",
       "      <td>0</td>\n",
       "      <td>0</td>\n",
       "      <td>0</td>\n",
       "    </tr>\n",
       "    <tr>\n",
       "      <th>97</th>\n",
       "      <td>182</td>\n",
       "      <td>10</td>\n",
       "      <td>0</td>\n",
       "      <td>0</td>\n",
       "      <td>0</td>\n",
       "      <td>0</td>\n",
       "      <td>0</td>\n",
       "      <td>1</td>\n",
       "      <td>0</td>\n",
       "      <td>0</td>\n",
       "      <td>0</td>\n",
       "      <td>0</td>\n",
       "      <td>0</td>\n",
       "    </tr>\n",
       "    <tr>\n",
       "      <th>98</th>\n",
       "      <td>2039</td>\n",
       "      <td>222</td>\n",
       "      <td>0</td>\n",
       "      <td>0</td>\n",
       "      <td>0</td>\n",
       "      <td>0</td>\n",
       "      <td>0</td>\n",
       "      <td>1</td>\n",
       "      <td>0</td>\n",
       "      <td>0</td>\n",
       "      <td>0</td>\n",
       "      <td>0</td>\n",
       "      <td>0</td>\n",
       "    </tr>\n",
       "    <tr>\n",
       "      <th>99</th>\n",
       "      <td>741</td>\n",
       "      <td>109</td>\n",
       "      <td>0</td>\n",
       "      <td>0</td>\n",
       "      <td>0</td>\n",
       "      <td>0</td>\n",
       "      <td>0</td>\n",
       "      <td>1</td>\n",
       "      <td>0</td>\n",
       "      <td>0</td>\n",
       "      <td>0</td>\n",
       "      <td>0</td>\n",
       "      <td>0</td>\n",
       "    </tr>\n",
       "  </tbody>\n",
       "</table>\n",
       "<p>100 rows × 13 columns</p>\n",
       "</div>"
      ],
      "text/plain": [
       "    Followers  Likes  11_hrs  14_hrs  20_hrs  24_hrs  2_hrs  3_hrs  4_hrs  \\\n",
       "0        1600    139       1       0       0       0      0      0      0   \n",
       "1         880     23       0       0       0       0      1      0      0   \n",
       "2         255     25       0       0       0       0      1      0      0   \n",
       "3         340     49       0       0       0       0      0      1      0   \n",
       "4         304     30       0       0       0       0      0      1      0   \n",
       "..        ...    ...     ...     ...     ...     ...    ...    ...    ...   \n",
       "95        614     31       0       0       0       0      0      1      0   \n",
       "96        450     42       0       0       0       0      0      1      0   \n",
       "97        182     10       0       0       0       0      0      1      0   \n",
       "98       2039    222       0       0       0       0      0      1      0   \n",
       "99        741    109       0       0       0       0      0      1      0   \n",
       "\n",
       "    5_hrs  7_hrs  8_hrs  9_hrs  \n",
       "0       0      0      0      0  \n",
       "1       0      0      0      0  \n",
       "2       0      0      0      0  \n",
       "3       0      0      0      0  \n",
       "4       0      0      0      0  \n",
       "..    ...    ...    ...    ...  \n",
       "95      0      0      0      0  \n",
       "96      0      0      0      0  \n",
       "97      0      0      0      0  \n",
       "98      0      0      0      0  \n",
       "99      0      0      0      0  \n",
       "\n",
       "[100 rows x 13 columns]"
      ]
     },
     "execution_count": 103,
     "metadata": {},
     "output_type": "execute_result"
    }
   ],
   "source": [
    "dfML_ans1"
   ]
  },
  {
   "cell_type": "code",
   "execution_count": null,
   "metadata": {},
   "outputs": [],
   "source": []
  },
  {
   "cell_type": "code",
   "execution_count": null,
   "metadata": {},
   "outputs": [],
   "source": []
  }
 ],
 "metadata": {
  "kernelspec": {
   "display_name": "Python 3",
   "language": "python",
   "name": "python3"
  },
  "language_info": {
   "codemirror_mode": {
    "name": "ipython",
    "version": 3
   },
   "file_extension": ".py",
   "mimetype": "text/x-python",
   "name": "python",
   "nbconvert_exporter": "python",
   "pygments_lexer": "ipython3",
   "version": "3.8.5"
  },
  "toc": {
   "base_numbering": 1,
   "nav_menu": {},
   "number_sections": true,
   "sideBar": true,
   "skip_h1_title": false,
   "title_cell": "Table of Contents",
   "title_sidebar": "Contents",
   "toc_cell": false,
   "toc_position": {},
   "toc_section_display": true,
   "toc_window_display": false
  }
 },
 "nbformat": 4,
 "nbformat_minor": 4
}
